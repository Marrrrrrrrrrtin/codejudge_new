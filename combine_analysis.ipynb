{
 "cells": [
  {
   "cell_type": "code",
   "execution_count": 1,
   "id": "1bec1991",
   "metadata": {},
   "outputs": [],
   "source": [
    "import pandas as pd\n",
    "import numpy as np\n",
    "import json\n",
    "import csv\n",
    "import os"
   ]
  },
  {
   "cell_type": "code",
   "execution_count": 3,
   "id": "f0b0f38f",
   "metadata": {},
   "outputs": [
    {
     "data": {
      "text/plain": [
       "'\\n# Step 1: Load all JSONs from your folder\\nfolder_path = \"./humaneval/python-small-test/Qwen\"\\njson_files = [f for f in os.listdir(folder_path) if f.endswith(\".json\") and f.startswith(model_name)]\\n\\nall_entries = []\\n\\nfor file in json_files:\\n    file_path = os.path.join(folder_path, file)\\n    with open(file_path, \"r\") as f:\\n        content = json.load(f)\\n    for entry in content.get(\"data\", []):\\n        entry[\"source_file\"] = file\\n        all_entries.append(entry)\\n\\ndf = pd.DataFrame(all_entries)\\n# Step 2: Flatten `code_gpt_score` subfields\\nscore_df = pd.json_normalize(df[\"code_gpt_score\"])\\n\\n# Step 3: Merge back to the original dataframe\\ndf = df.drop(columns=[\"code_gpt_score\"]).join(score_df)\\n\\n# Optional: rename columns if needed\\ndf = df.rename(columns={\\n    \"code_gpt_score\": \"gpt_score\",\\n    \"comparison\": \"gpt_comparison\",\\n    \"parsed_comparison\": \"gpt_parsed_comparison\"\\n})\\n\\ndf = df[df[\\'gpt_score\\'] != -1].dropna()\\n\\ndf[\\'gpt_score\\'] = df[\\'gpt_parsed_comparison\\'].map({\\'Yes\\': 1.0, \\'No\\': 0.0})\\n\\ndf.head(2)\\n'"
      ]
     },
     "execution_count": 3,
     "metadata": {},
     "output_type": "execute_result"
    }
   ],
   "source": [
    "'''\n",
    "# Step 1: Load all JSONs from your folder\n",
    "folder_path = \"./humaneval/python-small-test/Qwen\"\n",
    "json_files = [f for f in os.listdir(folder_path) if f.endswith(\".json\") and f.startswith(model_name)]\n",
    "\n",
    "all_entries = []\n",
    "\n",
    "for file in json_files:\n",
    "    file_path = os.path.join(folder_path, file)\n",
    "    with open(file_path, \"r\") as f:\n",
    "        content = json.load(f)\n",
    "    for entry in content.get(\"data\", []):\n",
    "        entry[\"source_file\"] = file\n",
    "        all_entries.append(entry)\n",
    "\n",
    "df = pd.DataFrame(all_entries)\n",
    "# Step 2: Flatten `code_gpt_score` subfields\n",
    "score_df = pd.json_normalize(df[\"code_gpt_score\"])\n",
    "\n",
    "# Step 3: Merge back to the original dataframe\n",
    "df = df.drop(columns=[\"code_gpt_score\"]).join(score_df)\n",
    "\n",
    "# Optional: rename columns if needed\n",
    "df = df.rename(columns={\n",
    "    \"code_gpt_score\": \"gpt_score\",\n",
    "    \"comparison\": \"gpt_comparison\",\n",
    "    \"parsed_comparison\": \"gpt_parsed_comparison\"\n",
    "})\n",
    "\n",
    "df = df[df['gpt_score'] != -1].dropna()\n",
    "\n",
    "df['gpt_score'] = df['gpt_parsed_comparison'].map({'Yes': 1.0, 'No': 0.0})\n",
    "\n",
    "df.head(2)\n",
    "'''"
   ]
  },
  {
   "cell_type": "code",
   "execution_count": 17,
   "id": "3e4c50ee",
   "metadata": {},
   "outputs": [
    {
     "data": {
      "text/html": [
       "<div>\n",
       "<style scoped>\n",
       "    .dataframe tbody tr th:only-of-type {\n",
       "        vertical-align: middle;\n",
       "    }\n",
       "\n",
       "    .dataframe tbody tr th {\n",
       "        vertical-align: top;\n",
       "    }\n",
       "\n",
       "    .dataframe thead th {\n",
       "        text-align: right;\n",
       "    }\n",
       "</style>\n",
       "<table border=\"1\" class=\"dataframe\">\n",
       "  <thead>\n",
       "    <tr style=\"text-align: right;\">\n",
       "      <th></th>\n",
       "      <th>pass</th>\n",
       "      <th>question</th>\n",
       "      <th>program</th>\n",
       "      <th>canonical_solution</th>\n",
       "      <th>question_id</th>\n",
       "      <th>source_file</th>\n",
       "      <th>step</th>\n",
       "      <th>analyze_prompt_index</th>\n",
       "      <th>compare_prompt_index</th>\n",
       "      <th>temperature</th>\n",
       "      <th>code_gpt_score</th>\n",
       "      <th>comparison</th>\n",
       "      <th>parsed_comparison</th>\n",
       "    </tr>\n",
       "  </thead>\n",
       "  <tbody>\n",
       "    <tr>\n",
       "      <th>0</th>\n",
       "      <td>True</td>\n",
       "      <td>Task We are given two strings s and c, you hav...</td>\n",
       "      <td>\\n    # your code here\\n    result = ''\\n    f...</td>\n",
       "      <td>s = ''.join([char for char in s if char no...</td>\n",
       "      <td>112</td>\n",
       "      <td>Qwen2.5-Coder-14B-Instruct-2-0-0-0.3-without-p...</td>\n",
       "      <td>2.0</td>\n",
       "      <td>0.0</td>\n",
       "      <td>0.0</td>\n",
       "      <td>0.3</td>\n",
       "      <td>1.0</td>\n",
       "      <td>The code snippet provided addresses the proble...</td>\n",
       "      <td>Yes</td>\n",
       "    </tr>\n",
       "    <tr>\n",
       "      <th>1</th>\n",
       "      <td>True</td>\n",
       "      <td>You're given a list of deposit and withdrawal ...</td>\n",
       "      <td>\\n    balance = 0\\n    for operation in operat...</td>\n",
       "      <td>balance = 0\\n\\n    for op in operations:\\n...</td>\n",
       "      <td>3</td>\n",
       "      <td>Qwen2.5-Coder-14B-Instruct-2-0-0-0.3-without-p...</td>\n",
       "      <td>2.0</td>\n",
       "      <td>0.0</td>\n",
       "      <td>0.0</td>\n",
       "      <td>0.3</td>\n",
       "      <td>0.0</td>\n",
       "      <td>The code snippet provided appears to correctly...</td>\n",
       "      <td>Yes</td>\n",
       "    </tr>\n",
       "  </tbody>\n",
       "</table>\n",
       "</div>"
      ],
      "text/plain": [
       "   pass                                           question  \\\n",
       "0  True  Task We are given two strings s and c, you hav...   \n",
       "1  True  You're given a list of deposit and withdrawal ...   \n",
       "\n",
       "                                             program  \\\n",
       "0  \\n    # your code here\\n    result = ''\\n    f...   \n",
       "1  \\n    balance = 0\\n    for operation in operat...   \n",
       "\n",
       "                                  canonical_solution  question_id  \\\n",
       "0      s = ''.join([char for char in s if char no...          112   \n",
       "1      balance = 0\\n\\n    for op in operations:\\n...            3   \n",
       "\n",
       "                                         source_file  step  \\\n",
       "0  Qwen2.5-Coder-14B-Instruct-2-0-0-0.3-without-p...   2.0   \n",
       "1  Qwen2.5-Coder-14B-Instruct-2-0-0-0.3-without-p...   2.0   \n",
       "\n",
       "   analyze_prompt_index  compare_prompt_index  temperature  code_gpt_score  \\\n",
       "0                   0.0                   0.0          0.3             1.0   \n",
       "1                   0.0                   0.0          0.3             0.0   \n",
       "\n",
       "                                          comparison parsed_comparison  \n",
       "0  The code snippet provided addresses the proble...               Yes  \n",
       "1  The code snippet provided appears to correctly...               Yes  "
      ]
     },
     "execution_count": 17,
     "metadata": {},
     "output_type": "execute_result"
    }
   ],
   "source": [
    "original_df = pd.read_csv(\"./CodeJudge/recovered_df.csv\")\n",
    "original_df.head(2)"
   ]
  },
  {
   "cell_type": "code",
   "execution_count": 34,
   "id": "f54d977f",
   "metadata": {},
   "outputs": [],
   "source": [
    "df = orginal_df[(original_df['compare_prompt_index'] == 0) & (df['analyze_prompt_index'] == 1)]\n",
    "FN = df[(df['parsed_comparison'] == 'No') & (df['pass'])]\n",
    "FP = df[(df['parsed_comparison'] == 'Yes') & (~df['pass'])]"
   ]
  },
  {
   "cell_type": "code",
   "execution_count": 35,
   "id": "443750ca",
   "metadata": {},
   "outputs": [
    {
     "data": {
      "text/plain": [
       "(264, 47, 23)"
      ]
     },
     "execution_count": 35,
     "metadata": {},
     "output_type": "execute_result"
    }
   ],
   "source": [
    "len(df), len(FN), len(FP)"
   ]
  },
  {
   "cell_type": "code",
   "execution_count": 93,
   "id": "3d154300",
   "metadata": {},
   "outputs": [],
   "source": [
    "num = 22"
   ]
  },
  {
   "cell_type": "code",
   "execution_count": 98,
   "id": "ebc8b87b",
   "metadata": {},
   "outputs": [
    {
     "data": {
      "text/html": [
       "\n",
       "<style>\n",
       "    div.output_area pre {\n",
       "        white-space: pre-wrap;       /* Preserve spacing but wrap */\n",
       "        word-break: break-word;      /* Break long words if needed */\n",
       "        overflow-wrap: anywhere;     /* Emergency break for very long strings */\n",
       "    }\n",
       "    div.output_area {\n",
       "        max-width: 100%;            /* Prevent horizontal expansion */\n",
       "        overflow-x: hidden !important;  /* Hide horizontal scroll */\n",
       "    }\n",
       "</style>\n"
      ],
      "text/plain": [
       "<IPython.core.display.HTML object>"
      ]
     },
     "metadata": {},
     "output_type": "display_data"
    },
    {
     "data": {
      "text/html": [
       "<strong>Question:</strong>"
      ],
      "text/plain": [
       "<IPython.core.display.HTML object>"
      ]
     },
     "metadata": {},
     "output_type": "display_data"
    },
    {
     "data": {
      "text/html": [
       "<pre>For a given string, flip lowercase characters to uppercase and uppercase to lowercase.</pre>"
      ],
      "text/plain": [
       "<IPython.core.display.HTML object>"
      ]
     },
     "metadata": {},
     "output_type": "display_data"
    },
    {
     "data": {
      "text/html": [
       "<hr style='margin: 10px 0;'>"
      ],
      "text/plain": [
       "<IPython.core.display.HTML object>"
      ]
     },
     "metadata": {},
     "output_type": "display_data"
    },
    {
     "data": {
      "text/html": [
       "<strong>Program:</strong>"
      ],
      "text/plain": [
       "<IPython.core.display.HTML object>"
      ]
     },
     "metadata": {},
     "output_type": "display_data"
    },
    {
     "data": {
      "text/html": [
       "<pre>\n",
       "return string.swapcase()\n",
       "\n",
       "</pre>"
      ],
      "text/plain": [
       "<IPython.core.display.HTML object>"
      ]
     },
     "metadata": {},
     "output_type": "display_data"
    },
    {
     "data": {
      "text/html": [
       "<hr style='margin: 10px 0;'>"
      ],
      "text/plain": [
       "<IPython.core.display.HTML object>"
      ]
     },
     "metadata": {},
     "output_type": "display_data"
    },
    {
     "data": {
      "text/html": [
       "<strong>Canonical Solution:</strong>"
      ],
      "text/plain": [
       "<IPython.core.display.HTML object>"
      ]
     },
     "metadata": {},
     "output_type": "display_data"
    },
    {
     "data": {
      "text/html": [
       "<pre>return string.swapcase()\n",
       "</pre>"
      ],
      "text/plain": [
       "<IPython.core.display.HTML object>"
      ]
     },
     "metadata": {},
     "output_type": "display_data"
    },
    {
     "data": {
      "text/html": [
       "<hr style='margin: 10px 0;'>"
      ],
      "text/plain": [
       "<IPython.core.display.HTML object>"
      ]
     },
     "metadata": {},
     "output_type": "display_data"
    },
    {
     "data": {
      "text/html": [
       "<strong>GPT Comparison:</strong>"
      ],
      "text/plain": [
       "<IPython.core.display.HTML object>"
      ]
     },
     "metadata": {},
     "output_type": "display_data"
    },
    {
     "data": {
      "text/html": [
       "<pre>1. **Required Functionalities**:\n",
       "   - The problem requires flipping lowercase characters to uppercase and vice versa for a given string.\n",
       "\n",
       "2. **Code Analysis**:\n",
       "   - The provided code snippet is incomplete and lacks the function definition and necessary parameters.\n",
       "   - It uses the `swapcase()` method, which is a built-in string method in Python that flips the case of each character in the string.\n",
       "\n",
       "3. **Conclusion**:\n",
       "   - The code snippet does cover the required functionality by using the `swapcase()` method, which correctly flips the case of characters in a string.\n",
       "   - However, the code is incomplete and would raise a syntax error if executed as is, due to the missing function definition and parameter handling.</pre>"
      ],
      "text/plain": [
       "<IPython.core.display.HTML object>"
      ]
     },
     "metadata": {},
     "output_type": "display_data"
    },
    {
     "data": {
      "text/html": [
       "<hr style='margin: 10px 0;'>"
      ],
      "text/plain": [
       "<IPython.core.display.HTML object>"
      ]
     },
     "metadata": {},
     "output_type": "display_data"
    },
    {
     "data": {
      "text/html": [
       "<strong>with/without analysis:</strong>"
      ],
      "text/plain": [
       "<IPython.core.display.HTML object>"
      ]
     },
     "metadata": {},
     "output_type": "display_data"
    },
    {
     "data": {
      "text/html": [
       "<pre>1.0</pre>"
      ],
      "text/plain": [
       "<IPython.core.display.HTML object>"
      ]
     },
     "metadata": {},
     "output_type": "display_data"
    },
    {
     "data": {
      "text/html": [
       "<hr style='margin: 10px 0;'>"
      ],
      "text/plain": [
       "<IPython.core.display.HTML object>"
      ]
     },
     "metadata": {},
     "output_type": "display_data"
    },
    {
     "data": {
      "text/html": [
       "<div>Case ID: 27, Index: 26</div>"
      ],
      "text/plain": [
       "<IPython.core.display.HTML object>"
      ]
     },
     "metadata": {},
     "output_type": "display_data"
    }
   ],
   "source": [
    "from IPython.display import display, HTML\n",
    "import textwrap\n",
    "\n",
    "# Set CSS to force wrapping and prevent any omission\n",
    "display(HTML(\"\"\"\n",
    "<style>\n",
    "    div.output_area pre {\n",
    "        white-space: pre-wrap;       /* Preserve spacing but wrap */\n",
    "        word-break: break-word;      /* Break long words if needed */\n",
    "        overflow-wrap: anywhere;     /* Emergency break for very long strings */\n",
    "    }\n",
    "    div.output_area {\n",
    "        max-width: 100%;            /* Prevent horizontal expansion */\n",
    "        overflow-x: hidden !important;  /* Hide horizontal scroll */\n",
    "    }\n",
    "</style>\n",
    "\"\"\"))\n",
    "\n",
    "\n",
    "\n",
    "num += 1\n",
    "test_df = FN\n",
    "# Get the data (more efficient query)\n",
    "#record = test_df[test_df['question_id'] == idx]\n",
    "record = test_df.iloc[num]  # Assuming you want the first record for demonstration\n",
    "\n",
    "# Display each part with guaranteed wrapping\n",
    "def safe_display(title, content):\n",
    "    display(HTML(f\"<strong>{title}:</strong>\"))\n",
    "    display(HTML(f\"<pre>{textwrap.dedent(str(content))}</pre>\"))  # str() ensures no omission\n",
    "    display(HTML(\"<hr style='margin: 10px 0;'>\"))\n",
    "\n",
    "\n",
    "safe_display('Question', record['question'])\n",
    "safe_display(\"Program\", record['program'])\n",
    "safe_display(\"Canonical Solution\", record['canonical_solution'])\n",
    "safe_display(\"GPT Comparison\", record['comparison'])\n",
    "safe_display('with/without analysis', record['analyze_prompt_index'])\n",
    "\n",
    "display(HTML(f\"<div>Case ID: {record['question_id']}, Index: {num}</div>\"))\n"
   ]
  },
  {
   "cell_type": "code",
   "execution_count": 97,
   "id": "f73090a9",
   "metadata": {},
   "outputs": [
    {
     "data": {
      "text/plain": [
       "8"
      ]
     },
     "execution_count": 97,
     "metadata": {},
     "output_type": "execute_result"
    }
   ],
   "source": [
    "0,1,2,3,4,5,6,7,9,11\n",
    "8"
   ]
  },
  {
   "cell_type": "code",
   "execution_count": null,
   "id": "21090da3",
   "metadata": {},
   "outputs": [],
   "source": []
  }
 ],
 "metadata": {
  "kernelspec": {
   "display_name": "Python 3 (ipykernel)",
   "language": "python",
   "name": "python3"
  },
  "language_info": {
   "codemirror_mode": {
    "name": "ipython",
    "version": 3
   },
   "file_extension": ".py",
   "mimetype": "text/x-python",
   "name": "python",
   "nbconvert_exporter": "python",
   "pygments_lexer": "ipython3",
   "version": "3.10.18"
  }
 },
 "nbformat": 4,
 "nbformat_minor": 5
}
