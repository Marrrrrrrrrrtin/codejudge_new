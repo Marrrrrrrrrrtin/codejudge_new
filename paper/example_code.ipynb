{
 "cells": [
  {
   "cell_type": "markdown",
   "metadata": {},
   "source": [
    "Code for Figure 1"
   ]
  },
  {
   "cell_type": "code",
   "execution_count": null,
   "metadata": {},
   "outputs": [],
   "source": [
    "def anti_shuffle(s):\n",
    "    return ' '.join([''.join(sorted(list(i))) for i in s.split(' ')])"
   ]
  },
  {
   "cell_type": "code",
   "execution_count": null,
   "metadata": {},
   "outputs": [],
   "source": [
    "def anti_shuffle(s):\n",
    "    return ' '.join([sorted(word) for word in s.split()])"
   ]
  },
  {
   "cell_type": "markdown",
   "metadata": {},
   "source": [
    "Code for Figure 2"
   ]
  },
  {
   "cell_type": "code",
   "execution_count": 17,
   "metadata": {},
   "outputs": [],
   "source": [
    "# reference\n",
    "def anti_shuffle(s):\n",
    "    return ' '.join([\n",
    "        ''.join(sorted(list(i))) \n",
    "        for i in s.split(' ')\n",
    "    ])"
   ]
  },
  {
   "cell_type": "code",
   "execution_count": 19,
   "metadata": {},
   "outputs": [],
   "source": [
    "# partially correct code\n",
    "def anti_shuffle(s):\n",
    "    return ' '.join([sorted(list(i)) for i in s.split(' ')])"
   ]
  },
  {
   "cell_type": "code",
   "execution_count": 22,
   "metadata": {},
   "outputs": [],
   "source": [
    "# totally wrong code\n",
    "def anti_shuffle(s):\n",
    "    pass"
   ]
  },
  {
   "cell_type": "code",
   "execution_count": 24,
   "metadata": {},
   "outputs": [],
   "source": [
    "# lexically different code\n",
    "def anti_shuffle(s):\n",
    "    return ' '.join([\n",
    "        ''.join(sorted(list(word))) \n",
    "        for word in s.split(' ')\n",
    "    ])"
   ]
  },
  {
   "cell_type": "code",
   "execution_count": 26,
   "metadata": {},
   "outputs": [],
   "source": [
    "# semantically different code\n",
    "def anti_shuffle(s):\n",
    "    def sort(word):\n",
    "        return ''.join(sorted(list(word)))\n",
    "    word_list = []\n",
    "    current_word = \"\"\n",
    "    for i in range(len(s)):\n",
    "        if s[i] != \" \":\n",
    "            current_word += s[i]\n",
    "        else:\n",
    "            word_list.append(sort(current_word))\n",
    "            current_word = \"\"\n",
    "    word_list.append(sort(current_word))\n",
    "    return ' '.join(word_list)"
   ]
  },
  {
   "cell_type": "code",
   "execution_count": 27,
   "metadata": {},
   "outputs": [],
   "source": [
    "def check(anti_shuffle):\n",
    "    assert anti_shuffle(\"Hi\") == \"Hi\"\n",
    "    assert anti_shuffle(\"hello\") == \"ehllo\"\n",
    "    assert anti_shuffle(\"number\") == \"bemnru\"\n",
    "    assert anti_shuffle(\"abcd\") == \"abcd\"\n",
    "    assert anti_shuffle(\"Hello World!!!\") == \"Hello !!!Wdlor\"\n",
    "    assert anti_shuffle(\"\") == \"\"\n",
    "    assert (\n",
    "        anti_shuffle(\"Hi. My name is Mister Robot. How are you?\")\n",
    "        == \".Hi My aemn is Meirst .Rboot How aer ?ouy\"\n",
    "    )\n",
    "\n",
    "check(anti_shuffle)"
   ]
  },
  {
   "cell_type": "markdown",
   "metadata": {},
   "source": [
    "Test for Figure 2"
   ]
  },
  {
   "cell_type": "code",
   "execution_count": 9,
   "metadata": {},
   "outputs": [
    {
     "name": "stdout",
     "output_type": "stream",
     "text": [
      "BLEU & 0.779 & 0.010 & 0.858 & 0.231 \\\\\n",
      "CodeBLEU & 0.852 & 0.052 & 0.983 & 0.851 \\\\\n",
      "chrF & 0.852 & 0.266 & 0.891 & 0.466 \\\\\n",
      "ROUGE-L & 0.914 & 0.267 & 0.947 & 0.431 \\\\\n",
      "RUBY & 0.811 & 0.364 & 0.990 & 0.533 \\\\\n",
      "METEOR & 0.846 & 0.164 & 0.947 & 0.705 \\\\\n",
      "CodeBERTScore$_{f1}$ & 0.990 & 0.796 & 0.976 & 0.800 \\\\\n",
      "CodeBERTScore$_{f3}$ & 0.988 & 0.746 & 0.976 & 0.841 \\\\\n"
     ]
    }
   ],
   "source": [
    "import code_bert_score\n",
    "from codegen_metrics import (\n",
    "    codebleu,\n",
    "    ruby,\n",
    "    chrf,\n",
    "    bleu,\n",
    "    meteor,\n",
    "    rougel,\n",
    ")\n",
    "import os\n",
    "os.environ[\"https_proxy\"] = \"127.0.0.1:17890\"\n",
    "\n",
    "partially_correct_prediction = \"\"\"\\\n",
    "def anti_shuffle(s):\n",
    "    return ' '.join([sorted(list(i)) for i in s.split(' ')])\n",
    "\"\"\"\n",
    "\n",
    "lexically_different_prediction = \"\"\"\\\n",
    "def anti_shuffle(s):\n",
    "    return ' '.join([''.join(sorted(list(word))) for word in s.split(' ')])\n",
    "\"\"\"\n",
    "semantically_different_prediction = \"\"\"\\\n",
    "def anti_shuffle(s):\n",
    "    word_list = []\n",
    "    current_word = \"\"\n",
    "    for i in range(len(s)):\n",
    "        if s[i] != \" \":\n",
    "            current_word += s[i]\n",
    "        else:\n",
    "            word_list.append(\"\".join(sorted(list(current_word))))\n",
    "            current_word = \"\"\n",
    "    word_list.append(\"\".join(sorted(list(current_word))))\n",
    "    return ' '.join(word_list)\n",
    "\"\"\"\n",
    "\n",
    "totally_wrong_prediction = \"\"\"\\\n",
    "def anti_shuffle(s):\n",
    "    pass\n",
    "\"\"\"\n",
    "\n",
    "predictions = [\n",
    "    partially_correct_prediction,\n",
    "    totally_wrong_prediction,\n",
    "    lexically_different_prediction,\n",
    "    semantically_different_prediction,\n",
    "]\n",
    "\n",
    "name = [\n",
    "    \"a\",\n",
    "    \"b\",\n",
    "    \"c\",\n",
    "    \"d\",\n",
    "]\n",
    "\n",
    "reference = \"\"\"\\\n",
    "def anti_shuffle(s):\n",
    "    return ' '.join([''.join(sorted(list(i))) for i in s.split(' ')])\n",
    "\"\"\"\n",
    "\n",
    "out = []\n",
    "for index, p in enumerate(predictions):\n",
    "    _, _, f1, f3 = code_bert_score.score(\n",
    "        cands=[p], refs=[reference], lang=\"python\"\n",
    "    )\n",
    "    f1 = f1.tolist()[0]\n",
    "    f3 = f3.tolist()[0]\n",
    "\n",
    "    out.append({\n",
    "        \"bleu\": bleu(reference, p),\n",
    "        \"codebleu\": codebleu(reference, p),\n",
    "        \"chrf\": chrf(reference, p),\n",
    "        \"rougel\": rougel(reference, p),\n",
    "        \"ruby\": ruby(reference, p),\n",
    "        \"meteor\": meteor(reference, p),\n",
    "        \"code_bert_score_f1\": f1,\n",
    "        \"code_bert_score_f3\": f3,\n",
    "    })\n",
    "\n",
    "methods = {\n",
    "    \"bleu\": \"BLEU\",\n",
    "    \"codebleu\": \"CodeBLEU\",\n",
    "    \"chrf\": \"chrF\",\n",
    "    \"rougel\": \"ROUGE-L\",\n",
    "    \"ruby\": \"RUBY\",\n",
    "    \"meteor\": \"METEOR\",\n",
    "    \"code_bert_score_f1\": \"CodeBERTScore$_{f1}$\",\n",
    "    \"code_bert_score_f3\": \"CodeBERTScore$_{f3}$\",\n",
    "}\n",
    "\n",
    "for m in methods:\n",
    "    print(f\"{methods[m]} & \" + \" & \".join([f\"{o[m]:.3f}\" for o in out]) + \" \\\\\\\\\")\n",
    "\n"
   ]
  }
 ],
 "metadata": {
  "kernelspec": {
   "display_name": "CodeModelScore",
   "language": "python",
   "name": "python3"
  },
  "language_info": {
   "codemirror_mode": {
    "name": "ipython",
    "version": 3
   },
   "file_extension": ".py",
   "mimetype": "text/x-python",
   "name": "python",
   "nbconvert_exporter": "python",
   "pygments_lexer": "ipython3",
   "version": "3.10.13"
  }
 },
 "nbformat": 4,
 "nbformat_minor": 2
}
