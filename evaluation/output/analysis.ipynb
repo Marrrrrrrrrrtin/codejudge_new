{
 "cells": [
  {
   "cell_type": "code",
   "execution_count": 1,
   "id": "8cadf1a5",
   "metadata": {},
   "outputs": [
    {
     "ename": "ModuleNotFoundError",
     "evalue": "No module named 'pandas'",
     "output_type": "error",
     "traceback": [
      "\u001b[0;31m---------------------------------------------------------------------------\u001b[0m",
      "\u001b[0;31mModuleNotFoundError\u001b[0m                       Traceback (most recent call last)",
      "Cell \u001b[0;32mIn[1], line 1\u001b[0m\n\u001b[0;32m----> 1\u001b[0m \u001b[38;5;28;01mimport\u001b[39;00m\u001b[38;5;250m \u001b[39m\u001b[38;5;21;01mpandas\u001b[39;00m\u001b[38;5;250m \u001b[39m\u001b[38;5;28;01mas\u001b[39;00m\u001b[38;5;250m \u001b[39m\u001b[38;5;21;01mpd\u001b[39;00m\n\u001b[1;32m      2\u001b[0m \u001b[38;5;28;01mimport\u001b[39;00m\u001b[38;5;250m \u001b[39m\u001b[38;5;21;01mnumpy\u001b[39;00m\u001b[38;5;250m \u001b[39m\u001b[38;5;28;01mas\u001b[39;00m\u001b[38;5;250m \u001b[39m\u001b[38;5;21;01mnp\u001b[39;00m\n\u001b[1;32m      3\u001b[0m \u001b[38;5;28;01mimport\u001b[39;00m\u001b[38;5;250m \u001b[39m\u001b[38;5;21;01mos\u001b[39;00m\n",
      "\u001b[0;31mModuleNotFoundError\u001b[0m: No module named 'pandas'"
     ]
    }
   ],
   "source": [
    "import pandas as pd\n",
    "import numpy as np\n",
    "import os\n",
    "import json"
   ]
  },
  {
   "cell_type": "code",
   "execution_count": null,
   "id": "62e44204-d6be-4f5b-91df-4904adbd5f24",
   "metadata": {},
   "outputs": [
    {
     "data": {
      "text/html": [
       "<div>\n",
       "<style scoped>\n",
       "    .dataframe tbody tr th:only-of-type {\n",
       "        vertical-align: middle;\n",
       "    }\n",
       "\n",
       "    .dataframe tbody tr th {\n",
       "        vertical-align: top;\n",
       "    }\n",
       "\n",
       "    .dataframe thead th {\n",
       "        text-align: right;\n",
       "    }\n",
       "</style>\n",
       "<table border=\"1\" class=\"dataframe\">\n",
       "  <thead>\n",
       "    <tr style=\"text-align: right;\">\n",
       "      <th></th>\n",
       "      <th>pass</th>\n",
       "      <th>program</th>\n",
       "      <th>canonical_solution</th>\n",
       "      <th>question_id</th>\n",
       "      <th>source_file</th>\n",
       "      <th>gpt_score</th>\n",
       "      <th>gpt_comparison</th>\n",
       "      <th>gpt_parsed_comparison</th>\n",
       "    </tr>\n",
       "  </thead>\n",
       "  <tbody>\n",
       "    <tr>\n",
       "      <th>0</th>\n",
       "      <td>True</td>\n",
       "      <td>def reverse_delete(s,c):\\n\\n    # your code he...</td>\n",
       "      <td>def reverse_delete(s,c):\\n    s = ''.join([cha...</td>\n",
       "      <td>112</td>\n",
       "      <td>Qwen-2-0-1-0.4-sample-0.json</td>\n",
       "      <td>1.0</td>\n",
       "      <td>The code snippet converts the string `s` into ...</td>\n",
       "      <td>Yes</td>\n",
       "    </tr>\n",
       "    <tr>\n",
       "      <th>1</th>\n",
       "      <td>True</td>\n",
       "      <td>from typing import List\\n\\n\\ndef below_zero(op...</td>\n",
       "      <td>from typing import List\\n\\n\\ndef below_zero(op...</td>\n",
       "      <td>3</td>\n",
       "      <td>Qwen-2-0-1-0.4-sample-0.json</td>\n",
       "      <td>1.0</td>\n",
       "      <td>Conclusion: The code snippet correctly impleme...</td>\n",
       "      <td>Yes</td>\n",
       "    </tr>\n",
       "  </tbody>\n",
       "</table>\n",
       "</div>"
      ],
      "text/plain": [
       "   pass                                            program  \\\n",
       "0  True  def reverse_delete(s,c):\\n\\n    # your code he...   \n",
       "1  True  from typing import List\\n\\n\\ndef below_zero(op...   \n",
       "\n",
       "                                  canonical_solution question_id  \\\n",
       "0  def reverse_delete(s,c):\\n    s = ''.join([cha...         112   \n",
       "1  from typing import List\\n\\n\\ndef below_zero(op...           3   \n",
       "\n",
       "                    source_file  gpt_score  \\\n",
       "0  Qwen-2-0-1-0.4-sample-0.json        1.0   \n",
       "1  Qwen-2-0-1-0.4-sample-0.json        1.0   \n",
       "\n",
       "                                      gpt_comparison gpt_parsed_comparison  \n",
       "0  The code snippet converts the string `s` into ...                   Yes  \n",
       "1  Conclusion: The code snippet correctly impleme...                   Yes  "
      ]
     },
     "execution_count": 21,
     "metadata": {},
     "output_type": "execute_result"
    }
   ],
   "source": [
    "# Step 1: Load all JSONs from your folder\n",
    "folder_path = \"./humaneval/python-small-test/\"\n",
    "json_files = [f for f in os.listdir(folder_path) if f.endswith(\".json\")]\n",
    "\n",
    "all_entries = []\n",
    "\n",
    "for file in json_files:\n",
    "    file_path = os.path.join(folder_path, file)\n",
    "    with open(file_path, \"r\") as f:\n",
    "        content = json.load(f)\n",
    "    for entry in content.get(\"data\", []):\n",
    "        entry[\"source_file\"] = file\n",
    "        all_entries.append(entry)\n",
    "\n",
    "df = pd.DataFrame(all_entries)\n",
    "\n",
    "# Step 2: Flatten `code_gpt_score` subfields\n",
    "score_df = pd.json_normalize(df[\"code_gpt_score\"])\n",
    "\n",
    "# Step 3: Merge back to the original dataframe\n",
    "df = df.drop(columns=[\"code_gpt_score\"]).join(score_df)\n",
    "\n",
    "# Optional: rename columns if needed\n",
    "df = df.rename(columns={\n",
    "    \"code_gpt_score\": \"gpt_score\",\n",
    "    \"comparison\": \"gpt_comparison\",\n",
    "    \"parsed_comparison\": \"gpt_parsed_comparison\"\n",
    "})\n",
    "\n",
    "\n",
    "df.head(2)\n"
   ]
  },
  {
   "cell_type": "code",
   "execution_count": 22,
   "id": "c5acc098-83c4-4216-9558-64d27d07c5ea",
   "metadata": {},
   "outputs": [
    {
     "data": {
      "text/html": [
       "<div>\n",
       "<style scoped>\n",
       "    .dataframe tbody tr th:only-of-type {\n",
       "        vertical-align: middle;\n",
       "    }\n",
       "\n",
       "    .dataframe tbody tr th {\n",
       "        vertical-align: top;\n",
       "    }\n",
       "\n",
       "    .dataframe thead th {\n",
       "        text-align: right;\n",
       "    }\n",
       "</style>\n",
       "<table border=\"1\" class=\"dataframe\">\n",
       "  <thead>\n",
       "    <tr style=\"text-align: right;\">\n",
       "      <th></th>\n",
       "      <th>pass</th>\n",
       "      <th>program</th>\n",
       "      <th>canonical_solution</th>\n",
       "      <th>question_id</th>\n",
       "      <th>source_file</th>\n",
       "      <th>gpt_score</th>\n",
       "      <th>gpt_comparison</th>\n",
       "      <th>gpt_parsed_comparison</th>\n",
       "    </tr>\n",
       "  </thead>\n",
       "  <tbody>\n",
       "    <tr>\n",
       "      <th>2</th>\n",
       "      <td>True</td>\n",
       "      <td>def choose_num(x, y):\\n\\n    if x &gt; y:\\n      ...</td>\n",
       "      <td>def choose_num(x, y):\\n    if x &gt; y:\\n        ...</td>\n",
       "      <td>102</td>\n",
       "      <td>Qwen-2-0-1-0.4-sample-0.json</td>\n",
       "      <td>0.0</td>\n",
       "      <td>1. The required functionalities are:\\n   - Ret...</td>\n",
       "      <td>No</td>\n",
       "    </tr>\n",
       "    <tr>\n",
       "      <th>17</th>\n",
       "      <td>True</td>\n",
       "      <td>def count_distinct_characters(string: str) -&gt; ...</td>\n",
       "      <td>def count_distinct_characters(string: str) -&gt; ...</td>\n",
       "      <td>16</td>\n",
       "      <td>Qwen-2-0-1-0.4-sample-0.json</td>\n",
       "      <td>0.0</td>\n",
       "      <td>The code snippet provided is identical to the ...</td>\n",
       "      <td>No</td>\n",
       "    </tr>\n",
       "  </tbody>\n",
       "</table>\n",
       "</div>"
      ],
      "text/plain": [
       "    pass                                            program  \\\n",
       "2   True  def choose_num(x, y):\\n\\n    if x > y:\\n      ...   \n",
       "17  True  def count_distinct_characters(string: str) -> ...   \n",
       "\n",
       "                                   canonical_solution question_id  \\\n",
       "2   def choose_num(x, y):\\n    if x > y:\\n        ...         102   \n",
       "17  def count_distinct_characters(string: str) -> ...          16   \n",
       "\n",
       "                     source_file  gpt_score  \\\n",
       "2   Qwen-2-0-1-0.4-sample-0.json        0.0   \n",
       "17  Qwen-2-0-1-0.4-sample-0.json        0.0   \n",
       "\n",
       "                                       gpt_comparison gpt_parsed_comparison  \n",
       "2   1. The required functionalities are:\\n   - Ret...                    No  \n",
       "17  The code snippet provided is identical to the ...                    No  "
      ]
     },
     "execution_count": 22,
     "metadata": {},
     "output_type": "execute_result"
    }
   ],
   "source": [
    "negative_truth = df[(df['gpt_score'] < 1) & (df['pass'])]\n",
    "negative_truth.head(2)"
   ]
  },
  {
   "cell_type": "code",
   "execution_count": 23,
   "id": "8a29f15c-3681-45ac-9c78-4e05479ed385",
   "metadata": {},
   "outputs": [
    {
     "data": {
      "text/html": [
       "<div>\n",
       "<style scoped>\n",
       "    .dataframe tbody tr th:only-of-type {\n",
       "        vertical-align: middle;\n",
       "    }\n",
       "\n",
       "    .dataframe tbody tr th {\n",
       "        vertical-align: top;\n",
       "    }\n",
       "\n",
       "    .dataframe thead th {\n",
       "        text-align: right;\n",
       "    }\n",
       "</style>\n",
       "<table border=\"1\" class=\"dataframe\">\n",
       "  <thead>\n",
       "    <tr style=\"text-align: right;\">\n",
       "      <th></th>\n",
       "      <th>pass</th>\n",
       "      <th>program</th>\n",
       "      <th>canonical_solution</th>\n",
       "      <th>question_id</th>\n",
       "      <th>source_file</th>\n",
       "      <th>gpt_score</th>\n",
       "      <th>gpt_comparison</th>\n",
       "      <th>gpt_parsed_comparison</th>\n",
       "    </tr>\n",
       "  </thead>\n",
       "  <tbody>\n",
       "    <tr>\n",
       "      <th>30</th>\n",
       "      <td>False</td>\n",
       "      <td>def any_int(x, y, z):\\n\\n    return (int(x+y) ...</td>\n",
       "      <td>def any_int(x, y, z):\\n    \\n    if isinstance...</td>\n",
       "      <td>92</td>\n",
       "      <td>Qwen-2-0-1-0.4-sample-0.json</td>\n",
       "      <td>1.0</td>\n",
       "      <td>1. The problem statement requires a function t...</td>\n",
       "      <td>Yes</td>\n",
       "    </tr>\n",
       "    <tr>\n",
       "      <th>32</th>\n",
       "      <td>False</td>\n",
       "      <td>def maximum(arr, k):\\n\\n    # use a min heap t...</td>\n",
       "      <td>def maximum(arr, k):\\n    if k == 0:\\n        ...</td>\n",
       "      <td>120</td>\n",
       "      <td>Qwen-2-0-1-0.4-sample-0.json</td>\n",
       "      <td>1.0</td>\n",
       "      <td>1. **Required Functionalities**:\\n   - The fun...</td>\n",
       "      <td>Yes</td>\n",
       "    </tr>\n",
       "  </tbody>\n",
       "</table>\n",
       "</div>"
      ],
      "text/plain": [
       "     pass                                            program  \\\n",
       "30  False  def any_int(x, y, z):\\n\\n    return (int(x+y) ...   \n",
       "32  False  def maximum(arr, k):\\n\\n    # use a min heap t...   \n",
       "\n",
       "                                   canonical_solution question_id  \\\n",
       "30  def any_int(x, y, z):\\n    \\n    if isinstance...          92   \n",
       "32  def maximum(arr, k):\\n    if k == 0:\\n        ...         120   \n",
       "\n",
       "                     source_file  gpt_score  \\\n",
       "30  Qwen-2-0-1-0.4-sample-0.json        1.0   \n",
       "32  Qwen-2-0-1-0.4-sample-0.json        1.0   \n",
       "\n",
       "                                       gpt_comparison gpt_parsed_comparison  \n",
       "30  1. The problem statement requires a function t...                   Yes  \n",
       "32  1. **Required Functionalities**:\\n   - The fun...                   Yes  "
      ]
     },
     "execution_count": 23,
     "metadata": {},
     "output_type": "execute_result"
    }
   ],
   "source": [
    "positive_false = df[(df['gpt_score'] > 0) & (~df['pass'])]\n",
    "positive_false.head(2)"
   ]
  },
  {
   "cell_type": "code",
   "execution_count": 24,
   "id": "cac19382-f953-442a-aab2-fe149279163b",
   "metadata": {},
   "outputs": [
    {
     "data": {
      "text/plain": [
       "(396, 36, 23)"
      ]
     },
     "execution_count": 24,
     "metadata": {},
     "output_type": "execute_result"
    }
   ],
   "source": [
    "len(df), len(negative_truth), len(positive_false)"
   ]
  },
  {
   "cell_type": "code",
   "execution_count": 25,
   "id": "f9d963a3-3dfd-40ae-bf27-96829413fe40",
   "metadata": {},
   "outputs": [],
   "source": [
    "index = 0"
   ]
  },
  {
   "cell_type": "code",
   "execution_count": 43,
   "id": "f8d11b44-626f-4261-891c-73b79dcdad1d",
   "metadata": {},
   "outputs": [
    {
     "name": "stdout",
     "output_type": "stream",
     "text": [
      "def count_upper(s):\n",
      "\n",
      "    count = 0\n",
      "    for i, c in enumerate(s):\n",
      "        if c.isupper() and i % 2 == 0:\n",
      "            count += 1\n",
      "    return count\n",
      "\n",
      "\n",
      "\n",
      "\n",
      "\n",
      "\n",
      "def count_upper(s):\n",
      "    count = 0\n",
      "    for i in range(0,len(s),2):\n",
      "        if s[i] in \"AEIOU\":\n",
      "            count += 1\n",
      "    return count\n",
      "\n",
      "\n",
      "\n",
      "\n",
      "\n",
      "The reference solution counts uppercase vowels at even indices of the string. The code snippet provided also counts uppercase vowels at even indices. Therefore, the functionalities required by the problem statement are covered by both the reference solution and the code snippet.\n",
      "\n",
      "\n",
      "\n",
      "\n",
      "98 18\n"
     ]
    }
   ],
   "source": [
    "# Make code more readable\n",
    "\n",
    "import textwrap\n",
    "index += 1\n",
    "code_string_pogram = positive_false.iloc[index]['program']\n",
    "code_string_canonical = positive_false.iloc[index]['canonical_solution']\n",
    "comparison = positive_false.iloc[index]['gpt_comparison']\n",
    "case_id = positive_false.iloc[index]['question_id']\n",
    "print(textwrap.dedent(code_string_pogram))\n",
    "print('\\n\\n\\n')\n",
    "print(textwrap.dedent(code_string_canonical))\n",
    "print('\\n\\n\\n')\n",
    "print(comparison)\n",
    "print('\\n\\n\\n')\n",
    "print(case_id, index)"
   ]
  },
  {
   "cell_type": "code",
   "execution_count": 35,
   "id": "bcd25c0a-c386-4971-98d6-62d9f8d0aeed",
   "metadata": {},
   "outputs": [
    {
     "data": {
      "text/plain": [
       "'def count_distinct_characters(string: str) -> int:\\n\\n    return len(set(string.lower()))\\n\\n'"
      ]
     },
     "execution_count": 35,
     "metadata": {},
     "output_type": "execute_result"
    }
   ],
   "source": []
  },
  {
   "cell_type": "code",
   "execution_count": null,
   "id": "50f67a76-d1c3-4d45-a9ce-bc6c175a2cc8",
   "metadata": {},
   "outputs": [],
   "source": []
  }
 ],
 "metadata": {
  "kernelspec": {
   "display_name": "codejudge",
   "language": "python",
   "name": "python3"
  },
  "language_info": {
   "codemirror_mode": {
    "name": "ipython",
    "version": 3
   },
   "file_extension": ".py",
   "mimetype": "text/x-python",
   "name": "python",
   "nbconvert_exporter": "python",
   "pygments_lexer": "ipython3",
   "version": "3.10.18"
  }
 },
 "nbformat": 4,
 "nbformat_minor": 5
}
