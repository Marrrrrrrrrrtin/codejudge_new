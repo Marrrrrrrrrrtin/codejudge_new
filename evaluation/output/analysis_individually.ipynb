{
 "cells": [
  {
   "cell_type": "code",
   "execution_count": 23,
   "id": "e0df0dde",
   "metadata": {},
   "outputs": [],
   "source": [
    "import pandas as pd\n",
    "import numpy as np\n",
    "import json\n",
    "import os"
   ]
  },
  {
   "cell_type": "code",
   "execution_count": 24,
   "id": "c570c3cd",
   "metadata": {},
   "outputs": [
    {
     "data": {
      "text/html": [
       "<style>.jp-OutputArea-output { max-height: none; }</style>"
      ],
      "text/plain": [
       "<IPython.core.display.HTML object>"
      ]
     },
     "execution_count": 24,
     "metadata": {},
     "output_type": "execute_result"
    }
   ],
   "source": [
    "from IPython.display import display, HTML\n",
    "\n",
    "# For pandas dataframes - show all rows and columns\n",
    "'''\n",
    "pd.set_option('display.max_rows', None)\n",
    "pd.set_option('display.max_columns', None)\n",
    "pd.set_option('display.width', None)\n",
    "pd.set_option('display.max_colwidth', None)\n",
    "'''\n",
    "\n",
    "# For numpy arrays - show all elements\n",
    "np.set_printoptions(threshold=np.inf)\n",
    "\n",
    "# For pretty display of large HTML content\n",
    "HTML(\"<style>.jp-OutputArea-output { max-height: none; }</style>\")"
   ]
  },
  {
   "cell_type": "code",
   "execution_count": 25,
   "id": "0495ef64",
   "metadata": {},
   "outputs": [
    {
     "data": {
      "text/html": [
       "<div>\n",
       "<style scoped>\n",
       "    .dataframe tbody tr th:only-of-type {\n",
       "        vertical-align: middle;\n",
       "    }\n",
       "\n",
       "    .dataframe tbody tr th {\n",
       "        vertical-align: top;\n",
       "    }\n",
       "\n",
       "    .dataframe thead th {\n",
       "        text-align: right;\n",
       "    }\n",
       "</style>\n",
       "<table border=\"1\" class=\"dataframe\">\n",
       "  <thead>\n",
       "    <tr style=\"text-align: right;\">\n",
       "      <th></th>\n",
       "      <th>pass</th>\n",
       "      <th>question</th>\n",
       "      <th>program</th>\n",
       "      <th>canonical_solution</th>\n",
       "      <th>question_id</th>\n",
       "      <th>source_file</th>\n",
       "      <th>gpt_score</th>\n",
       "      <th>gpt_comparison</th>\n",
       "      <th>gpt_parsed_comparison</th>\n",
       "    </tr>\n",
       "  </thead>\n",
       "  <tbody>\n",
       "    <tr>\n",
       "      <th>0</th>\n",
       "      <td>True</td>\n",
       "      <td>Task We are given two strings s and c, you hav...</td>\n",
       "      <td>def reverse_delete(s,c):\\n\\n    # your code he...</td>\n",
       "      <td>def reverse_delete(s,c):\\n    s = ''.join([cha...</td>\n",
       "      <td>112</td>\n",
       "      <td>Qwen-2-0-4-0.4-sample-0.json</td>\n",
       "      <td>0.0</td>\n",
       "      <td>1. The problem statement requires a function t...</td>\n",
       "      <td>Yes</td>\n",
       "    </tr>\n",
       "    <tr>\n",
       "      <th>1</th>\n",
       "      <td>True</td>\n",
       "      <td>You're given a list of deposit and withdrawal ...</td>\n",
       "      <td>from typing import List\\n\\n\\ndef below_zero(op...</td>\n",
       "      <td>from typing import List\\n\\n\\ndef below_zero(op...</td>\n",
       "      <td>3</td>\n",
       "      <td>Qwen-2-0-4-0.4-sample-0.json</td>\n",
       "      <td>1.0</td>\n",
       "      <td>Let's evaluate the code snippet step by step t...</td>\n",
       "      <td>Yes</td>\n",
       "    </tr>\n",
       "  </tbody>\n",
       "</table>\n",
       "</div>"
      ],
      "text/plain": [
       "   pass                                           question  \\\n",
       "0  True  Task We are given two strings s and c, you hav...   \n",
       "1  True  You're given a list of deposit and withdrawal ...   \n",
       "\n",
       "                                             program  \\\n",
       "0  def reverse_delete(s,c):\\n\\n    # your code he...   \n",
       "1  from typing import List\\n\\n\\ndef below_zero(op...   \n",
       "\n",
       "                                  canonical_solution question_id  \\\n",
       "0  def reverse_delete(s,c):\\n    s = ''.join([cha...         112   \n",
       "1  from typing import List\\n\\n\\ndef below_zero(op...           3   \n",
       "\n",
       "                    source_file  gpt_score  \\\n",
       "0  Qwen-2-0-4-0.4-sample-0.json        0.0   \n",
       "1  Qwen-2-0-4-0.4-sample-0.json        1.0   \n",
       "\n",
       "                                      gpt_comparison gpt_parsed_comparison  \n",
       "0  1. The problem statement requires a function t...                   Yes  \n",
       "1  Let's evaluate the code snippet step by step t...                   Yes  "
      ]
     },
     "execution_count": 25,
     "metadata": {},
     "output_type": "execute_result"
    }
   ],
   "source": [
    "folder_path = \"./humaneval/python-small-test/\"\n",
    "json_files = [f for f in os.listdir(folder_path) if f.endswith(\".json\")]\n",
    "\n",
    "all_entries = []\n",
    "\n",
    "for file in json_files:\n",
    "    file_path = os.path.join(folder_path, file)\n",
    "    with open(file_path, \"r\") as f:\n",
    "        content = json.load(f)\n",
    "    for entry in content.get(\"data\", []):\n",
    "        entry[\"source_file\"] = file\n",
    "        all_entries.append(entry)\n",
    "\n",
    "df = pd.DataFrame(all_entries)\n",
    "\n",
    "# Step 2: Flatten `code_gpt_score` subfields\n",
    "score_df = pd.json_normalize(df[\"code_gpt_score\"])\n",
    "\n",
    "# Step 3: Merge back to the original dataframe\n",
    "df = df.drop(columns=[\"code_gpt_score\"]).join(score_df)\n",
    "\n",
    "# Optional: rename columns if needed\n",
    "df = df.rename(columns={\n",
    "    \"code_gpt_score\": \"gpt_score\",\n",
    "    \"comparison\": \"gpt_comparison\",\n",
    "    \"parsed_comparison\": \"gpt_parsed_comparison\"\n",
    "})\n",
    "\n",
    "\n",
    "df.head(2)\n"
   ]
  },
  {
   "cell_type": "code",
   "execution_count": 26,
   "id": "da495b90",
   "metadata": {},
   "outputs": [],
   "source": [
    "import re\n",
    "\n",
    "def parse_filename(filename):\n",
    "    \"\"\"\n",
    "    Parse a filename in the format 'Qwen-2-0-4-0.4-sample-0.json' to extract components.\n",
    "    \n",
    "    Args:\n",
    "        filename (str): The filename to parse\n",
    "        \n",
    "    Returns:\n",
    "        dict: Dictionary containing extracted components or None if pattern doesn't match\n",
    "    \"\"\"\n",
    "    # Regular expression to match the pattern: Qwen-<step>-<analyze_prompt_index>-<compare_prompt_index>-<temperature>-sample-<number>.json\n",
    "    pattern = r'Qwen-(\\d+)-(\\d+)-(\\d+)-(\\d+\\.\\d+)-sample-\\d+\\.json'\n",
    "    \n",
    "    match = re.match(pattern, filename)\n",
    "    if match:\n",
    "        return {\n",
    "            'source_file': filename,\n",
    "            'step': int(match.group(1)),\n",
    "            'analyze_prompt_index': int(match.group(2)),\n",
    "            'compare_prompt_index': int(match.group(3)),\n",
    "            'temperature': float(match.group(4))\n",
    "        }\n",
    "    return None\n",
    "\n",
    "def create_dataframe_from_filenames(file_list):\n",
    "    \"\"\"\n",
    "    Create a DataFrame from a list of filenames by parsing each filename.\n",
    "    \n",
    "    Args:\n",
    "        file_list (list): List of filenames to parse\n",
    "        \n",
    "    Returns:\n",
    "        pandas.DataFrame: DataFrame containing the parsed information\n",
    "    \"\"\"\n",
    "    results = []\n",
    "    \n",
    "    for filename in file_list:\n",
    "        parsed_data = parse_filename(filename)\n",
    "        if parsed_data:\n",
    "            results.append(parsed_data)\n",
    "    \n",
    "    if not results:\n",
    "        return pd.DataFrame(columns=['filename', 'step', 'analyze_prompt_index', \n",
    "                                    'compare_prompt_index', 'temperature'])\n",
    "    \n",
    "    return pd.DataFrame(results)\n",
    "\n",
    "def process_directory(directory_path):\n",
    "    \"\"\"\n",
    "    Process all matching files in a directory and return a DataFrame.\n",
    "    \n",
    "    Args:\n",
    "        directory_path (str): Path to the directory containing the files\n",
    "        \n",
    "    Returns:\n",
    "        pandas.DataFrame: DataFrame containing the parsed information\n",
    "    \"\"\"\n",
    "    filenames = [f for f in os.listdir(directory_path) \n",
    "                if f.startswith('Qwen-') and f.endswith('.json')]\n",
    "    return create_dataframe_from_filenames(filenames)"
   ]
  },
  {
   "cell_type": "code",
   "execution_count": 27,
   "id": "c77ef825",
   "metadata": {},
   "outputs": [
    {
     "data": {
      "text/html": [
       "<div>\n",
       "<style scoped>\n",
       "    .dataframe tbody tr th:only-of-type {\n",
       "        vertical-align: middle;\n",
       "    }\n",
       "\n",
       "    .dataframe tbody tr th {\n",
       "        vertical-align: top;\n",
       "    }\n",
       "\n",
       "    .dataframe thead th {\n",
       "        text-align: right;\n",
       "    }\n",
       "</style>\n",
       "<table border=\"1\" class=\"dataframe\">\n",
       "  <thead>\n",
       "    <tr style=\"text-align: right;\">\n",
       "      <th></th>\n",
       "      <th>pass</th>\n",
       "      <th>question</th>\n",
       "      <th>program</th>\n",
       "      <th>canonical_solution</th>\n",
       "      <th>question_id</th>\n",
       "      <th>source_file</th>\n",
       "      <th>gpt_score</th>\n",
       "      <th>gpt_comparison</th>\n",
       "      <th>gpt_parsed_comparison</th>\n",
       "      <th>step</th>\n",
       "      <th>analyze_prompt_index</th>\n",
       "      <th>compare_prompt_index</th>\n",
       "      <th>temperature</th>\n",
       "    </tr>\n",
       "  </thead>\n",
       "  <tbody>\n",
       "    <tr>\n",
       "      <th>0</th>\n",
       "      <td>True</td>\n",
       "      <td>Task We are given two strings s and c, you hav...</td>\n",
       "      <td>def reverse_delete(s,c):\\n\\n    # your code he...</td>\n",
       "      <td>def reverse_delete(s,c):\\n    s = ''.join([cha...</td>\n",
       "      <td>112</td>\n",
       "      <td>Qwen-2-0-4-0.4-sample-0.json</td>\n",
       "      <td>0.0</td>\n",
       "      <td>1. The problem statement requires a function t...</td>\n",
       "      <td>Yes</td>\n",
       "      <td>2</td>\n",
       "      <td>0</td>\n",
       "      <td>4</td>\n",
       "      <td>0.4</td>\n",
       "    </tr>\n",
       "    <tr>\n",
       "      <th>1</th>\n",
       "      <td>True</td>\n",
       "      <td>You're given a list of deposit and withdrawal ...</td>\n",
       "      <td>from typing import List\\n\\n\\ndef below_zero(op...</td>\n",
       "      <td>from typing import List\\n\\n\\ndef below_zero(op...</td>\n",
       "      <td>3</td>\n",
       "      <td>Qwen-2-0-4-0.4-sample-0.json</td>\n",
       "      <td>1.0</td>\n",
       "      <td>Let's evaluate the code snippet step by step t...</td>\n",
       "      <td>Yes</td>\n",
       "      <td>2</td>\n",
       "      <td>0</td>\n",
       "      <td>4</td>\n",
       "      <td>0.4</td>\n",
       "    </tr>\n",
       "  </tbody>\n",
       "</table>\n",
       "</div>"
      ],
      "text/plain": [
       "   pass                                           question  \\\n",
       "0  True  Task We are given two strings s and c, you hav...   \n",
       "1  True  You're given a list of deposit and withdrawal ...   \n",
       "\n",
       "                                             program  \\\n",
       "0  def reverse_delete(s,c):\\n\\n    # your code he...   \n",
       "1  from typing import List\\n\\n\\ndef below_zero(op...   \n",
       "\n",
       "                                  canonical_solution question_id  \\\n",
       "0  def reverse_delete(s,c):\\n    s = ''.join([cha...         112   \n",
       "1  from typing import List\\n\\n\\ndef below_zero(op...           3   \n",
       "\n",
       "                    source_file  gpt_score  \\\n",
       "0  Qwen-2-0-4-0.4-sample-0.json        0.0   \n",
       "1  Qwen-2-0-4-0.4-sample-0.json        1.0   \n",
       "\n",
       "                                      gpt_comparison gpt_parsed_comparison  \\\n",
       "0  1. The problem statement requires a function t...                   Yes   \n",
       "1  Let's evaluate the code snippet step by step t...                   Yes   \n",
       "\n",
       "   step  analyze_prompt_index  compare_prompt_index  temperature  \n",
       "0     2                     0                     4          0.4  \n",
       "1     2                     0                     4          0.4  "
      ]
     },
     "execution_count": 27,
     "metadata": {},
     "output_type": "execute_result"
    }
   ],
   "source": [
    "parsed_df = process_directory(\"./humaneval/python-small-test/\")\n",
    "df = pd.merge(\n",
    "        df, \n",
    "        parsed_df, \n",
    "        on='source_file',\n",
    "        how='inner'  # Only keep rows that match in both dataframes\n",
    "    )\n",
    "original = df.copy()\n",
    "df = df[(df['gpt_parsed_comparison'] == 'Yes') | (df['gpt_parsed_comparison'] == 'No')]\n",
    "#df = df[df['temperature'] == 0.4]\n",
    "df.head(2)"
   ]
  },
  {
   "cell_type": "code",
   "execution_count": 28,
   "id": "3516c981",
   "metadata": {},
   "outputs": [
    {
     "name": "stdout",
     "output_type": "stream",
     "text": [
      "Metrics for each parameter combination:\n"
     ]
    },
    {
     "data": {
      "text/html": [
       "<div>\n",
       "<style scoped>\n",
       "    .dataframe tbody tr th:only-of-type {\n",
       "        vertical-align: middle;\n",
       "    }\n",
       "\n",
       "    .dataframe tbody tr th {\n",
       "        vertical-align: top;\n",
       "    }\n",
       "\n",
       "    .dataframe thead th {\n",
       "        text-align: right;\n",
       "    }\n",
       "</style>\n",
       "<table border=\"1\" class=\"dataframe\">\n",
       "  <thead>\n",
       "    <tr style=\"text-align: right;\">\n",
       "      <th></th>\n",
       "      <th>analyze_prompt_index</th>\n",
       "      <th>compare_prompt_index</th>\n",
       "      <th>temperature</th>\n",
       "      <th>accuracy</th>\n",
       "      <th>f1_score</th>\n",
       "    </tr>\n",
       "  </thead>\n",
       "  <tbody>\n",
       "    <tr>\n",
       "      <th>0</th>\n",
       "      <td>0</td>\n",
       "      <td>0</td>\n",
       "      <td>0.4</td>\n",
       "      <td>0.870370</td>\n",
       "      <td>0.867925</td>\n",
       "    </tr>\n",
       "    <tr>\n",
       "      <th>6</th>\n",
       "      <td>0</td>\n",
       "      <td>8</td>\n",
       "      <td>0.4</td>\n",
       "      <td>0.870229</td>\n",
       "      <td>0.870229</td>\n",
       "    </tr>\n",
       "    <tr>\n",
       "      <th>8</th>\n",
       "      <td>1</td>\n",
       "      <td>0</td>\n",
       "      <td>0.4</td>\n",
       "      <td>0.863636</td>\n",
       "      <td>0.863636</td>\n",
       "    </tr>\n",
       "    <tr>\n",
       "      <th>3</th>\n",
       "      <td>0</td>\n",
       "      <td>2</td>\n",
       "      <td>0.9</td>\n",
       "      <td>0.862595</td>\n",
       "      <td>0.857143</td>\n",
       "    </tr>\n",
       "    <tr>\n",
       "      <th>2</th>\n",
       "      <td>0</td>\n",
       "      <td>2</td>\n",
       "      <td>0.4</td>\n",
       "      <td>0.862595</td>\n",
       "      <td>0.857143</td>\n",
       "    </tr>\n",
       "    <tr>\n",
       "      <th>4</th>\n",
       "      <td>0</td>\n",
       "      <td>4</td>\n",
       "      <td>0.4</td>\n",
       "      <td>0.861538</td>\n",
       "      <td>0.857143</td>\n",
       "    </tr>\n",
       "    <tr>\n",
       "      <th>12</th>\n",
       "      <td>1</td>\n",
       "      <td>4</td>\n",
       "      <td>0.4</td>\n",
       "      <td>0.856061</td>\n",
       "      <td>0.857143</td>\n",
       "    </tr>\n",
       "    <tr>\n",
       "      <th>5</th>\n",
       "      <td>0</td>\n",
       "      <td>4</td>\n",
       "      <td>0.9</td>\n",
       "      <td>0.856061</td>\n",
       "      <td>0.859259</td>\n",
       "    </tr>\n",
       "    <tr>\n",
       "      <th>14</th>\n",
       "      <td>1</td>\n",
       "      <td>8</td>\n",
       "      <td>0.4</td>\n",
       "      <td>0.856061</td>\n",
       "      <td>0.857143</td>\n",
       "    </tr>\n",
       "    <tr>\n",
       "      <th>10</th>\n",
       "      <td>1</td>\n",
       "      <td>2</td>\n",
       "      <td>0.4</td>\n",
       "      <td>0.854962</td>\n",
       "      <td>0.845528</td>\n",
       "    </tr>\n",
       "    <tr>\n",
       "      <th>9</th>\n",
       "      <td>1</td>\n",
       "      <td>0</td>\n",
       "      <td>0.9</td>\n",
       "      <td>0.848485</td>\n",
       "      <td>0.848485</td>\n",
       "    </tr>\n",
       "    <tr>\n",
       "      <th>13</th>\n",
       "      <td>1</td>\n",
       "      <td>4</td>\n",
       "      <td>0.9</td>\n",
       "      <td>0.840909</td>\n",
       "      <td>0.846715</td>\n",
       "    </tr>\n",
       "    <tr>\n",
       "      <th>7</th>\n",
       "      <td>0</td>\n",
       "      <td>8</td>\n",
       "      <td>0.9</td>\n",
       "      <td>0.839695</td>\n",
       "      <td>0.842105</td>\n",
       "    </tr>\n",
       "    <tr>\n",
       "      <th>11</th>\n",
       "      <td>1</td>\n",
       "      <td>2</td>\n",
       "      <td>0.9</td>\n",
       "      <td>0.833333</td>\n",
       "      <td>0.825397</td>\n",
       "    </tr>\n",
       "    <tr>\n",
       "      <th>15</th>\n",
       "      <td>1</td>\n",
       "      <td>8</td>\n",
       "      <td>0.9</td>\n",
       "      <td>0.824427</td>\n",
       "      <td>0.829630</td>\n",
       "    </tr>\n",
       "    <tr>\n",
       "      <th>1</th>\n",
       "      <td>0</td>\n",
       "      <td>0</td>\n",
       "      <td>0.9</td>\n",
       "      <td>0.807692</td>\n",
       "      <td>0.796748</td>\n",
       "    </tr>\n",
       "  </tbody>\n",
       "</table>\n",
       "</div>"
      ],
      "text/plain": [
       "    analyze_prompt_index  compare_prompt_index  temperature  accuracy  \\\n",
       "0                      0                     0          0.4  0.870370   \n",
       "6                      0                     8          0.4  0.870229   \n",
       "8                      1                     0          0.4  0.863636   \n",
       "3                      0                     2          0.9  0.862595   \n",
       "2                      0                     2          0.4  0.862595   \n",
       "4                      0                     4          0.4  0.861538   \n",
       "12                     1                     4          0.4  0.856061   \n",
       "5                      0                     4          0.9  0.856061   \n",
       "14                     1                     8          0.4  0.856061   \n",
       "10                     1                     2          0.4  0.854962   \n",
       "9                      1                     0          0.9  0.848485   \n",
       "13                     1                     4          0.9  0.840909   \n",
       "7                      0                     8          0.9  0.839695   \n",
       "11                     1                     2          0.9  0.833333   \n",
       "15                     1                     8          0.9  0.824427   \n",
       "1                      0                     0          0.9  0.807692   \n",
       "\n",
       "    f1_score  \n",
       "0   0.867925  \n",
       "6   0.870229  \n",
       "8   0.863636  \n",
       "3   0.857143  \n",
       "2   0.857143  \n",
       "4   0.857143  \n",
       "12  0.857143  \n",
       "5   0.859259  \n",
       "14  0.857143  \n",
       "10  0.845528  \n",
       "9   0.848485  \n",
       "13  0.846715  \n",
       "7   0.842105  \n",
       "11  0.825397  \n",
       "15  0.829630  \n",
       "1   0.796748  "
      ]
     },
     "metadata": {},
     "output_type": "display_data"
    },
    {
     "name": "stdout",
     "output_type": "stream",
     "text": [
      "\n",
      "Overall Metrics:\n",
      "Accuracy: 0.8503\n",
      "F1 Score: 0.8488\n"
     ]
    },
    {
     "data": {
      "image/png": "[encoded data removed]",
      "text/plain": [
       "<Figure size 1200x600 with 1 Axes>"
      ]
     },
     "metadata": {},
     "output_type": "display_data"
    },
    {
     "data": {
      "image/png": "[encoded data removed]",
      "text/plain": [
       "<Figure size 1200x600 with 1 Axes>"
      ]
     },
     "metadata": {},
     "output_type": "display_data"
    }
   ],
   "source": [
    "from sklearn.metrics import accuracy_score, f1_score, confusion_matrix, classification_report\n",
    "import seaborn as sns\n",
    "import matplotlib.pyplot as plt\n",
    "\n",
    "# Convert string 'Yes'/'No' to boolean True/False to match with 'pass'\n",
    "df['predicted_bool'] = df['gpt_parsed_comparison'].apply(lambda x: True if x == 'Yes' else False)\n",
    "\n",
    "# Group by the parameters we're interested in\n",
    "grouped = df.groupby(['analyze_prompt_index', 'compare_prompt_index', 'temperature'])\n",
    "\n",
    "# Create a dataframe to store the results\n",
    "results = []\n",
    "\n",
    "# Calculate metrics for each group\n",
    "for name, group in grouped:\n",
    "    analyze_idx, compare_idx, temp = name\n",
    "    group_accuracy = accuracy_score(group['pass'], group['predicted_bool'])\n",
    "    group_f1 = f1_score(group['pass'], group['predicted_bool'])\n",
    "    group_conf_matrix = confusion_matrix(group['pass'], group['predicted_bool'])\n",
    "    \n",
    "    # Store the results\n",
    "    results.append({\n",
    "        'analyze_prompt_index': analyze_idx,\n",
    "        'compare_prompt_index': compare_idx,\n",
    "        'temperature': temp,\n",
    "        'accuracy': group_accuracy,\n",
    "        'f1_score': group_f1,\n",
    "        'sample_size': len(group),\n",
    "        'TN': group_conf_matrix[0, 0] if group_conf_matrix.shape == (2, 2) else 0,\n",
    "        'FP': group_conf_matrix[0, 1] if group_conf_matrix.shape == (2, 2) else 0,\n",
    "        'FN': group_conf_matrix[1, 0] if group_conf_matrix.shape == (2, 2) else 0,\n",
    "        'TP': group_conf_matrix[1, 1] if group_conf_matrix.shape == (2, 2) else 0\n",
    "    })\n",
    "\n",
    "# Convert to DataFrame for easier visualization\n",
    "results_df = pd.DataFrame(results)\n",
    "\n",
    "# Sort by accuracy (descending)\n",
    "results_df = results_df.sort_values('accuracy', ascending=False)\n",
    "\n",
    "# Display the results\n",
    "print(\"Metrics for each parameter combination:\")\n",
    "display(results_df[['analyze_prompt_index', 'compare_prompt_index', 'temperature', 'accuracy', 'f1_score']])\n",
    "\n",
    "# Calculate overall metrics for comparison\n",
    "overall_accuracy = accuracy_score(df['pass'], df['predicted_bool'])\n",
    "overall_f1 = f1_score(df['pass'], df['predicted_bool'])\n",
    "print(f\"\\nOverall Metrics:\")\n",
    "print(f\"Accuracy: {overall_accuracy:.4f}\")\n",
    "print(f\"F1 Score: {overall_f1:.4f}\")\n",
    "\n",
    "# Visualize accuracy by parameter combination\n",
    "plt.figure(figsize=(12, 6))\n",
    "sns.barplot(x='compare_prompt_index', y='accuracy', hue='analyze_prompt_index',\n",
    "            palette='viridis', data=results_df)\n",
    "plt.title('Accuracy by Parameter Combination')\n",
    "plt.xlabel('Compare Prompt Index')\n",
    "plt.ylabel('Accuracy')\n",
    "plt.legend(title='Analyze Prompt Index')\n",
    "plt.xticks(rotation=0)\n",
    "plt.tight_layout()\n",
    "plt.show()\n",
    "\n",
    "# Visualize F1 score by parameter combination\n",
    "plt.figure(figsize=(12, 6))\n",
    "sns.barplot(x='compare_prompt_index', y='f1_score', hue='analyze_prompt_index',\n",
    "            palette='viridis', data=results_df)\n",
    "plt.title('F1 Score by Parameter Combination')\n",
    "plt.xlabel('Compare Prompt Index')\n",
    "plt.ylabel('F1 Score')\n",
    "plt.legend(title='Analyze Prompt Index')\n",
    "plt.xticks(rotation=0)\n",
    "plt.tight_layout()\n",
    "plt.show()"
   ]
  },
  {
   "cell_type": "code",
   "execution_count": 29,
   "id": "3818337a",
   "metadata": {},
   "outputs": [
    {
     "name": "stdout",
     "output_type": "stream",
     "text": [
      "Total False Negatives: 115\n",
      "Total False Positives: 196\n"
     ]
    }
   ],
   "source": [
    "# Get the false negatives (actual pass = True, predicted = False)\n",
    "false_negatives = df[(df['pass'] == True) & (df['predicted_bool'] == False)]\n",
    "print(f\"Total False Negatives: {len(false_negatives)}\")\n",
    "\n",
    "# Get the false positives (actual pass = False, predicted = True)\n",
    "false_positives = df[(df['pass'] == False) & (df['predicted_bool'] == True)]\n",
    "print(f\"Total False Positives: {len(false_positives)}\")\n",
    "\n",
    "def sort_df(table):\n",
    "    # Count occurrences of each question_id\n",
    "    count = table['question_id'].value_counts()\n",
    "    \n",
    "    # Sort the table by frequency of question_id\n",
    "    sorted_table = table.sort_values(by='question_id', key=lambda x: count[x], ascending=False)\n",
    "    return sorted_table\n",
    "\n",
    "\n",
    "false_negatives = sort_df(false_negatives)\n",
    "false_positives = sort_df(false_positives)"
   ]
  },
  {
   "cell_type": "code",
   "execution_count": 30,
   "id": "6f48bb3f",
   "metadata": {},
   "outputs": [],
   "source": [
    "num = -1"
   ]
  },
  {
   "cell_type": "code",
   "execution_count": 31,
   "id": "1887d5dc",
   "metadata": {},
   "outputs": [
    {
     "data": {
      "text/html": [
       "\n",
       "<style>\n",
       "    div.output_area pre {\n",
       "        white-space: pre-wrap;       /* Preserve spacing but wrap */\n",
       "        word-break: break-word;      /* Break long words if needed */\n",
       "        overflow-wrap: anywhere;     /* Emergency break for very long strings */\n",
       "    }\n",
       "    div.output_area {\n",
       "        max-width: 100%;            /* Prevent horizontal expansion */\n",
       "        overflow-x: hidden !important;  /* Hide horizontal scroll */\n",
       "    }\n",
       "</style>\n"
      ],
      "text/plain": [
       "<IPython.core.display.HTML object>"
      ]
     },
     "metadata": {},
     "output_type": "display_data"
    },
    {
     "data": {
      "text/html": [
       "<strong>Question:</strong>"
      ],
      "text/plain": [
       "<IPython.core.display.HTML object>"
      ]
     },
     "metadata": {},
     "output_type": "display_data"
    },
    {
     "data": {
      "text/html": [
       "<pre>The FibFib number sequence is a sequence similar to the Fibbonacci sequnece that's defined as follows: fibfib(0) == 0 fibfib(1) == 0 fibfib(2) == 1 fibfib(n) == fibfib(n-1) + fibfib(n-2) + fibfib(n-3). Please write a function to efficiently compute the n-th element of the fibfib number sequence.</pre>"
      ],
      "text/plain": [
       "<IPython.core.display.HTML object>"
      ]
     },
     "metadata": {},
     "output_type": "display_data"
    },
    {
     "data": {
      "text/html": [
       "<hr style='margin: 10px 0;'>"
      ],
      "text/plain": [
       "<IPython.core.display.HTML object>"
      ]
     },
     "metadata": {},
     "output_type": "display_data"
    },
    {
     "data": {
      "text/html": [
       "<strong>Program:</strong>"
      ],
      "text/plain": [
       "<IPython.core.display.HTML object>"
      ]
     },
     "metadata": {},
     "output_type": "display_data"
    },
    {
     "data": {
      "text/html": [
       "<pre>def fibfib(n: int):\n",
       "\n",
       "    if n == 0:\n",
       "        return 0\n",
       "    if n == 1:\n",
       "        return 0\n",
       "    if n == 2:\n",
       "        return 1\n",
       "    return fibfib(n-1) + fibfib(n-2) + fibfib(n-3)\n",
       "\n",
       "</pre>"
      ],
      "text/plain": [
       "<IPython.core.display.HTML object>"
      ]
     },
     "metadata": {},
     "output_type": "display_data"
    },
    {
     "data": {
      "text/html": [
       "<hr style='margin: 10px 0;'>"
      ],
      "text/plain": [
       "<IPython.core.display.HTML object>"
      ]
     },
     "metadata": {},
     "output_type": "display_data"
    },
    {
     "data": {
      "text/html": [
       "<strong>Canonical Solution:</strong>"
      ],
      "text/plain": [
       "<IPython.core.display.HTML object>"
      ]
     },
     "metadata": {},
     "output_type": "display_data"
    },
    {
     "data": {
      "text/html": [
       "<pre>def fibfib(n: int):\n",
       "    if n == 0:\n",
       "        return 0\n",
       "    if n == 1:\n",
       "        return 0\n",
       "    if n == 2:\n",
       "        return 1\n",
       "    return fibfib(n - 1) + fibfib(n - 2) + fibfib(n - 3)\n",
       "</pre>"
      ],
      "text/plain": [
       "<IPython.core.display.HTML object>"
      ]
     },
     "metadata": {},
     "output_type": "display_data"
    },
    {
     "data": {
      "text/html": [
       "<hr style='margin: 10px 0;'>"
      ],
      "text/plain": [
       "<IPython.core.display.HTML object>"
      ]
     },
     "metadata": {},
     "output_type": "display_data"
    },
    {
     "data": {
      "text/html": [
       "<strong>GPT Comparison:</strong>"
      ],
      "text/plain": [
       "<IPython.core.display.HTML object>"
      ]
     },
     "metadata": {},
     "output_type": "display_data"
    },
    {
     "data": {
      "text/html": [
       "<pre>Let's evaluate the code snippet step by step to see if it meets the requirements of the problem statement.\n",
       "\n",
       "1. **Base Cases**:\n",
       "   - The function correctly handles the base cases for `n = 0`, `n = 1`, and `n = 2`:\n",
       "     - `fibfib(0)` returns `0`\n",
       "     - `fibfib(1)` returns `0`\n",
       "     - `fibfib(2)` returns `1`\n",
       "\n",
       "2. **Recursive Case**:\n",
       "   - The function uses a direct recursive approach to calculate `fibfib(n)` for `n >= 3`:\n",
       "     - `fibfib(n) = fibfib(n-1) + fibfib(n-2) + fibfib(n-3)`\n",
       "\n",
       "3. **Efficiency**:\n",
       "   - The current implementation is not efficient for larger values of `n` because it recalculates the same values multiple times, leading to an exponential time complexity (O(3^n)).\n",
       "\n",
       "4. **Example Outputs**:\n",
       "   - The function produces the correct outputs for the given examples:\n",
       "     - `fibfib(1)` returns `0` (as expected)\n",
       "     - `fibfib(5)` returns `4` (as expected)\n",
       "     - `fibfib(8)` returns `24` (as expected)\n",
       "\n",
       "5. **Additional Considerations**:\n",
       "   - The problem statement asks for an efficient computation of the n-th element. The current recursive approach is not efficient, especially for larger `n`. A more efficient approach would involve memoization or dynamic programming to store previously computed values and avoid redundant calculations.\n",
       "\n",
       "**Conclusion**:\n",
       "The code snippet correctly implements the FibFib sequence as defined in the problem statement and produces the expected outputs for the given examples. However, it does not address the efficiency requirement. A more efficient implementation would be necessary for larger values of `n`.</pre>"
      ],
      "text/plain": [
       "<IPython.core.display.HTML object>"
      ]
     },
     "metadata": {},
     "output_type": "display_data"
    },
    {
     "data": {
      "text/html": [
       "<hr style='margin: 10px 0;'>"
      ],
      "text/plain": [
       "<IPython.core.display.HTML object>"
      ]
     },
     "metadata": {},
     "output_type": "display_data"
    },
    {
     "data": {
      "text/html": [
       "<strong>with/without analysis:</strong>"
      ],
      "text/plain": [
       "<IPython.core.display.HTML object>"
      ]
     },
     "metadata": {},
     "output_type": "display_data"
    },
    {
     "data": {
      "text/html": [
       "<pre>0</pre>"
      ],
      "text/plain": [
       "<IPython.core.display.HTML object>"
      ]
     },
     "metadata": {},
     "output_type": "display_data"
    },
    {
     "data": {
      "text/html": [
       "<hr style='margin: 10px 0;'>"
      ],
      "text/plain": [
       "<IPython.core.display.HTML object>"
      ]
     },
     "metadata": {},
     "output_type": "display_data"
    },
    {
     "data": {
      "text/html": [
       "<div>Case ID: 63, Index: 0</div>"
      ],
      "text/plain": [
       "<IPython.core.display.HTML object>"
      ]
     },
     "metadata": {},
     "output_type": "display_data"
    }
   ],
   "source": [
    "from IPython.display import display, HTML\n",
    "import textwrap\n",
    "\n",
    "# Set CSS to force wrapping and prevent any omission\n",
    "display(HTML(\"\"\"\n",
    "<style>\n",
    "    div.output_area pre {\n",
    "        white-space: pre-wrap;       /* Preserve spacing but wrap */\n",
    "        word-break: break-word;      /* Break long words if needed */\n",
    "        overflow-wrap: anywhere;     /* Emergency break for very long strings */\n",
    "    }\n",
    "    div.output_area {\n",
    "        max-width: 100%;            /* Prevent horizontal expansion */\n",
    "        overflow-x: hidden !important;  /* Hide horizontal scroll */\n",
    "    }\n",
    "</style>\n",
    "\"\"\"))\n",
    "\n",
    "\n",
    "\n",
    "num += 1\n",
    "test_df = false_negatives\n",
    "# Get the data (more efficient query)\n",
    "#record = test_df[test_df['question_id'] == idx]\n",
    "record = test_df.iloc[num]  # Assuming you want the first record for demonstration\n",
    "\n",
    "# Display each part with guaranteed wrapping\n",
    "def safe_display(title, content):\n",
    "    display(HTML(f\"<strong>{title}:</strong>\"))\n",
    "    display(HTML(f\"<pre>{textwrap.dedent(str(content))}</pre>\"))  # str() ensures no omission\n",
    "    display(HTML(\"<hr style='margin: 10px 0;'>\"))\n",
    "\n",
    "\n",
    "safe_display('Question', record['question'])\n",
    "safe_display(\"Program\", record['program'])\n",
    "safe_display(\"Canonical Solution\", record['canonical_solution'])\n",
    "safe_display(\"GPT Comparison\", record['gpt_comparison'])\n",
    "safe_display('with/without analysis', record['analyze_prompt_index'])\n",
    "\n",
    "display(HTML(f\"<div>Case ID: {record['question_id']}, Index: {num}</div>\"))\n"
   ]
  },
  {
   "cell_type": "code",
   "execution_count": 32,
   "id": "2aea1fc7",
   "metadata": {},
   "outputs": [
    {
     "data": {
      "text/html": [
       "<div>\n",
       "<style scoped>\n",
       "    .dataframe tbody tr th:only-of-type {\n",
       "        vertical-align: middle;\n",
       "    }\n",
       "\n",
       "    .dataframe tbody tr th {\n",
       "        vertical-align: top;\n",
       "    }\n",
       "\n",
       "    .dataframe thead th {\n",
       "        text-align: right;\n",
       "    }\n",
       "</style>\n",
       "<table border=\"1\" class=\"dataframe\">\n",
       "  <thead>\n",
       "    <tr style=\"text-align: right;\">\n",
       "      <th></th>\n",
       "      <th></th>\n",
       "      <th></th>\n",
       "      <th>parsed_percentage</th>\n",
       "      <th>sample_size</th>\n",
       "    </tr>\n",
       "    <tr>\n",
       "      <th>analyze_prompt_index</th>\n",
       "      <th>compare_prompt_index</th>\n",
       "      <th>temperature</th>\n",
       "      <th></th>\n",
       "      <th></th>\n",
       "    </tr>\n",
       "  </thead>\n",
       "  <tbody>\n",
       "    <tr>\n",
       "      <th>0</th>\n",
       "      <th>4</th>\n",
       "      <th>0.9</th>\n",
       "      <td>1.000000</td>\n",
       "      <td>132</td>\n",
       "    </tr>\n",
       "    <tr>\n",
       "      <th rowspan=\"6\" valign=\"top\">1</th>\n",
       "      <th>2</th>\n",
       "      <th>0.9</th>\n",
       "      <td>1.000000</td>\n",
       "      <td>132</td>\n",
       "    </tr>\n",
       "    <tr>\n",
       "      <th>4</th>\n",
       "      <th>0.9</th>\n",
       "      <td>1.000000</td>\n",
       "      <td>132</td>\n",
       "    </tr>\n",
       "    <tr>\n",
       "      <th>8</th>\n",
       "      <th>0.4</th>\n",
       "      <td>1.000000</td>\n",
       "      <td>132</td>\n",
       "    </tr>\n",
       "    <tr>\n",
       "      <th>4</th>\n",
       "      <th>0.4</th>\n",
       "      <td>1.000000</td>\n",
       "      <td>132</td>\n",
       "    </tr>\n",
       "    <tr>\n",
       "      <th rowspan=\"2\" valign=\"top\">0</th>\n",
       "      <th>0.4</th>\n",
       "      <td>1.000000</td>\n",
       "      <td>132</td>\n",
       "    </tr>\n",
       "    <tr>\n",
       "      <th>0.9</th>\n",
       "      <td>1.000000</td>\n",
       "      <td>132</td>\n",
       "    </tr>\n",
       "    <tr>\n",
       "      <th rowspan=\"3\" valign=\"top\">0</th>\n",
       "      <th rowspan=\"2\" valign=\"top\">2</th>\n",
       "      <th>0.9</th>\n",
       "      <td>0.992424</td>\n",
       "      <td>132</td>\n",
       "    </tr>\n",
       "    <tr>\n",
       "      <th>0.4</th>\n",
       "      <td>0.992424</td>\n",
       "      <td>132</td>\n",
       "    </tr>\n",
       "    <tr>\n",
       "      <th>8</th>\n",
       "      <th>0.4</th>\n",
       "      <td>0.992424</td>\n",
       "      <td>132</td>\n",
       "    </tr>\n",
       "    <tr>\n",
       "      <th>1</th>\n",
       "      <th>2</th>\n",
       "      <th>0.4</th>\n",
       "      <td>0.992424</td>\n",
       "      <td>132</td>\n",
       "    </tr>\n",
       "    <tr>\n",
       "      <th>0</th>\n",
       "      <th>8</th>\n",
       "      <th>0.9</th>\n",
       "      <td>0.992424</td>\n",
       "      <td>132</td>\n",
       "    </tr>\n",
       "    <tr>\n",
       "      <th>1</th>\n",
       "      <th>8</th>\n",
       "      <th>0.9</th>\n",
       "      <td>0.992424</td>\n",
       "      <td>132</td>\n",
       "    </tr>\n",
       "    <tr>\n",
       "      <th rowspan=\"3\" valign=\"top\">0</th>\n",
       "      <th>0</th>\n",
       "      <th>0.9</th>\n",
       "      <td>0.984848</td>\n",
       "      <td>132</td>\n",
       "    </tr>\n",
       "    <tr>\n",
       "      <th>4</th>\n",
       "      <th>0.4</th>\n",
       "      <td>0.984848</td>\n",
       "      <td>132</td>\n",
       "    </tr>\n",
       "    <tr>\n",
       "      <th>0</th>\n",
       "      <th>0.4</th>\n",
       "      <td>0.818182</td>\n",
       "      <td>132</td>\n",
       "    </tr>\n",
       "  </tbody>\n",
       "</table>\n",
       "</div>"
      ],
      "text/plain": [
       "                                                       parsed_percentage  \\\n",
       "analyze_prompt_index compare_prompt_index temperature                      \n",
       "0                    4                    0.9                   1.000000   \n",
       "1                    2                    0.9                   1.000000   \n",
       "                     4                    0.9                   1.000000   \n",
       "                     8                    0.4                   1.000000   \n",
       "                     4                    0.4                   1.000000   \n",
       "                     0                    0.4                   1.000000   \n",
       "                                          0.9                   1.000000   \n",
       "0                    2                    0.9                   0.992424   \n",
       "                                          0.4                   0.992424   \n",
       "                     8                    0.4                   0.992424   \n",
       "1                    2                    0.4                   0.992424   \n",
       "0                    8                    0.9                   0.992424   \n",
       "1                    8                    0.9                   0.992424   \n",
       "0                    0                    0.9                   0.984848   \n",
       "                     4                    0.4                   0.984848   \n",
       "                     0                    0.4                   0.818182   \n",
       "\n",
       "                                                       sample_size  \n",
       "analyze_prompt_index compare_prompt_index temperature               \n",
       "0                    4                    0.9                  132  \n",
       "1                    2                    0.9                  132  \n",
       "                     4                    0.9                  132  \n",
       "                     8                    0.4                  132  \n",
       "                     4                    0.4                  132  \n",
       "                     0                    0.4                  132  \n",
       "                                          0.9                  132  \n",
       "0                    2                    0.9                  132  \n",
       "                                          0.4                  132  \n",
       "                     8                    0.4                  132  \n",
       "1                    2                    0.4                  132  \n",
       "0                    8                    0.9                  132  \n",
       "1                    8                    0.9                  132  \n",
       "0                    0                    0.9                  132  \n",
       "                     4                    0.4                  132  \n",
       "                     0                    0.4                  132  "
      ]
     },
     "execution_count": 32,
     "metadata": {},
     "output_type": "execute_result"
    }
   ],
   "source": [
    "# Create a copy of the original dataframe\n",
    "new_df = original.copy()\n",
    "\n",
    "# Add a new column that categorizes gpt_parsed_comparison values\n",
    "def categorize_parsed_comparison(value):\n",
    "    if value == 'Yes' or value == 'No':\n",
    "        return True\n",
    "    else:\n",
    "        return False\n",
    "\n",
    "# Apply the function to create a column indicating if the comparison was parsed\n",
    "new_df['parsed_category'] = new_df['gpt_parsed_comparison'].apply(categorize_parsed_comparison)\n",
    "\n",
    "# Group by prompt indices and temperature, then calculate the percentage of parsed responses\n",
    "grouped = new_df.groupby(['analyze_prompt_index', 'compare_prompt_index', 'temperature']).agg(\n",
    "    parsed_percentage=('parsed_category', 'mean'),\n",
    "    sample_size=('parsed_category', 'count')\n",
    ")\n",
    "\n",
    "# Sort by parsed_percentage in descending order\n",
    "grouped = grouped.sort_values('parsed_percentage', ascending=False)\n",
    "\n",
    "# Display the results\n",
    "grouped"
   ]
  },
  {
   "cell_type": "code",
   "execution_count": null,
   "id": "92bfb9d0",
   "metadata": {},
   "outputs": [],
   "source": []
  }
 ],
 "metadata": {
  "kernelspec": {
   "display_name": "base",
   "language": "python",
   "name": "python3"
  },
  "language_info": {
   "codemirror_mode": {
    "name": "ipython",
    "version": 3
   },
   "file_extension": ".py",
   "mimetype": "text/x-python",
   "name": "python",
   "nbconvert_exporter": "python",
   "pygments_lexer": "ipython3",
   "version": "3.12.5"
  }
 },
 "nbformat": 4,
 "nbformat_minor": 5
}
