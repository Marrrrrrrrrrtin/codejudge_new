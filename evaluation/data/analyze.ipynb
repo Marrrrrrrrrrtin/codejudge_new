{
 "cells": [
  {
   "cell_type": "code",
   "execution_count": 13,
   "metadata": {},
   "outputs": [
    {
     "name": "stdout",
     "output_type": "stream",
     "text": [
      "{'inconsistent': 126, 'total': 4720}\n",
      "0.026694915254237287\n"
     ]
    }
   ],
   "source": [
    "import json\n",
    "\n",
    "with open(\"conala/conala-aggregated-grades.json\", \"r\") as f:\n",
    "    grades = json.load(f)\n",
    "\n",
    "snippet_type = [\n",
    "    \"baseline\",\n",
    "    \"tranx-annot\",\n",
    "    \"best-tranx\",\n",
    "    \"best-tranx-rerank\",\n",
    "    \"codex\"\n",
    "]\n",
    "\n",
    "count = {\n",
    "    \"inconsistent\": 0,\n",
    "    \"total\": 0,\n",
    "}\n",
    "\n",
    "for item in grades:\n",
    "    for index_1 in range(len(snippet_type)):\n",
    "        for index_2 in range(index_1 + 1, len(snippet_type)):\n",
    "            code_1 = item[snippet_type[index_1]]\n",
    "            code_2 = item[snippet_type[index_2]]\n",
    "            if code_1 == code_2:\n",
    "                score_1 = item[f\"grade-{snippet_type[index_1]}\"]\n",
    "                score_2 = item[f\"grade-{snippet_type[index_2]}\"]\n",
    "                if score_1 != score_2:\n",
    "                    count[\"inconsistent\"] += 1\n",
    "            count[\"total\"] += 1\n",
    "                \n",
    "print(count)\n",
    "print(count[\"inconsistent\"] / count[\"total\"])"
   ]
  },
  {
   "cell_type": "code",
   "execution_count": 1,
   "metadata": {},
   "outputs": [
    {
     "data": {
      "image/png": "[encoded data removed]",
      "text/plain": [
       "<Figure size 1000x800 with 1 Axes>"
      ]
     },
     "metadata": {},
     "output_type": "display_data"
    },
    {
     "name": "stdout",
     "output_type": "stream",
     "text": [
      "743\n",
      "2360\n",
      "0.3148305084745763\n"
     ]
    }
   ],
   "source": [
    "import json\n",
    "import re\n",
    "import matplotlib.pyplot as plt\n",
    "\n",
    "with open(\"conala/conala-aggregated-grades.json\", \"r\") as f:\n",
    "    grades = json.load(f)\n",
    "\n",
    "snippet_type = [\n",
    "    \"baseline\",\n",
    "    \"tranx-annot\",\n",
    "    \"best-tranx\",\n",
    "    \"best-tranx-rerank\",\n",
    "    \"codex\"\n",
    "]\n",
    "\n",
    "def contains_single_backtick(text):\n",
    "    \"\"\"\n",
    "    Check if the input string contains a single backtick (`) that is not\n",
    "    part of a sequence of three backticks (```).\n",
    "\n",
    "    Parameters:\n",
    "    text (str): The string to check.\n",
    "\n",
    "    Returns:\n",
    "    bool: True if a single backtick is found, False otherwise.\n",
    "    \"\"\"\n",
    "    # Pattern to match a single backtick, but not triple backticks\n",
    "    pattern = r\"(?<!`)`(?!`)\"\n",
    "    \n",
    "    # Searching for the pattern in the text\n",
    "    match = re.search(pattern, text)\n",
    "    \n",
    "    # If a match is found, return True, else False\n",
    "    return bool(match)\n",
    "\n",
    "# Example usage\n",
    "numbers = ['0', '1', '2', '3', '4']\n",
    "counts = [0, 0, 0, 0, 0]\n",
    "total = 0\n",
    "\n",
    "\n",
    "for item in grades:\n",
    "    for index in range(len(snippet_type)):\n",
    "        if contains_single_backtick(item[snippet_type[index]]):\n",
    "            if item[f\"grade-{snippet_type[index]}\"] == 0:\n",
    "                counts[0] += 1\n",
    "            elif item[f\"grade-{snippet_type[index]}\"] == 1:\n",
    "                counts[1] += 1\n",
    "            elif item[f\"grade-{snippet_type[index]}\"] == 2:\n",
    "                counts[2] += 1\n",
    "            elif item[f\"grade-{snippet_type[index]}\"] == 3:\n",
    "                counts[3] += 1\n",
    "            elif item[f\"grade-{snippet_type[index]}\"] == 4:\n",
    "                counts[4] += 1\n",
    "        total += 1\n",
    "\n",
    "plt.figure(figsize=(10, 8))  # Set the figure size for better readability\n",
    "bars = plt.bar(numbers, counts, color='skyblue')\n",
    "\n",
    "# Adding the numerical label above each bar\n",
    "for bar in bars:\n",
    "    yval = bar.get_height()\n",
    "    plt.text(bar.get_x() + bar.get_width()/2, yval + 0.05*yval, f'{yval}', ha='center', va='bottom')\n",
    "\n",
    "plt.xlabel('Score')\n",
    "plt.ylabel('Count')\n",
    "plt.title('Distribution of Scores')\n",
    "plt.tight_layout()  # Adjust the layout to make room for the labels\n",
    "\n",
    "plt.show()\n",
    "\n",
    "print(sum(counts))\n",
    "print(total)\n",
    "print(sum(counts) / total)"
   ]
  }
 ],
 "metadata": {
  "kernelspec": {
   "display_name": "eval",
   "language": "python",
   "name": "python3"
  },
  "language_info": {
   "codemirror_mode": {
    "name": "ipython",
    "version": 3
   },
   "file_extension": ".py",
   "mimetype": "text/x-python",
   "name": "python",
   "nbconvert_exporter": "python",
   "pygments_lexer": "ipython3",
   "version": "3.10.14"
  }
 },
 "nbformat": 4,
 "nbformat_minor": 2
}
